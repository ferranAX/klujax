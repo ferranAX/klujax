{
 "cells": [
  {
   "cell_type": "markdown",
   "id": "0",
   "metadata": {},
   "source": [
    "# Solve"
   ]
  },
  {
   "cell_type": "code",
   "execution_count": null,
   "id": "1",
   "metadata": {},
   "outputs": [],
   "source": [
    "%env KLUJAX_DEBUG=1"
   ]
  },
  {
   "cell_type": "code",
   "execution_count": null,
   "id": "2",
   "metadata": {},
   "outputs": [],
   "source": [
    "import jax\n",
    "import jax.numpy as jnp\n",
    "import jax.scipy as jsp\n",
    "import numpy as np\n",
    "from tests import _get_rand_arrs_3d, _log_and_test_equality\n",
    "\n",
    "from klujax import solve, COMPLEX_DTYPES"
   ]
  },
  {
   "cell_type": "code",
   "execution_count": null,
   "id": "3",
   "metadata": {},
   "outputs": [],
   "source": [
    "dtype = jnp.float64\n",
    "holomorphic = dtype in COMPLEX_DTYPES\n",
    "\n",
    "Ai, Aj, Ax, b = _get_rand_arrs_3d(\n",
    "    (n_lhs := 1),\n",
    "    (n_nz := 8),\n",
    "    (n_col := 3),\n",
    "    (n_rhs := 1),\n",
    "    dtype=dtype,\n",
    ")\n",
    "A = jnp.zeros((n_lhs, n_col, n_col), dtype=dtype).at[:, Ai, Aj].add(Ax)\n",
    "print(S := np.array(jsp.linalg.solve(A, b)))\n",
    "print(s := np.array(solve(Ai, Aj, Ax[0], b)))\n",
    "print(\"is equal: \", bool((abs(S - s) < 1e-15).all()))"
   ]
  },
  {
   "cell_type": "code",
   "execution_count": null,
   "id": "4",
   "metadata": {},
   "outputs": [],
   "source": [
    "solve(Ai, Aj, Ax[0], b[0, :, 0])"
   ]
  },
  {
   "cell_type": "code",
   "execution_count": null,
   "id": "5",
   "metadata": {},
   "outputs": [],
   "source": [
    "dsaf"
   ]
  },
  {
   "cell_type": "code",
   "execution_count": null,
   "id": "6",
   "metadata": {},
   "outputs": [],
   "source": [
    "op_sparse = solve\n",
    "op_dense = jax.vmap(jsp.linalg.solve, (0, 0), 0)\n",
    "jac_sp = jax.jacfwd(op_sparse, 3, holomorphic=holomorphic)(Ai, Aj, Ax, b)\n",
    "jac = jax.jacfwd(op_dense, 1, holomorphic=holomorphic)(A, b)\n",
    "_log_and_test_equality(jac_sp, jac)"
   ]
  },
  {
   "cell_type": "code",
   "execution_count": null,
   "id": "7",
   "metadata": {},
   "outputs": [],
   "source": []
  }
 ],
 "metadata": {
  "kernelspec": {
   "display_name": "klujax",
   "language": "python",
   "name": "klujax"
  },
  "language_info": {
   "codemirror_mode": {
    "name": "ipython",
    "version": 3
   },
   "file_extension": ".py",
   "mimetype": "text/x-python",
   "name": "python",
   "nbconvert_exporter": "python",
   "pygments_lexer": "ipython3",
   "version": "3.12.6"
  }
 },
 "nbformat": 4,
 "nbformat_minor": 5
}
