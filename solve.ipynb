{
 "cells": [
  {
   "cell_type": "markdown",
   "id": "0",
   "metadata": {},
   "source": [
    "# Solve"
   ]
  },
  {
   "cell_type": "code",
   "execution_count": null,
   "id": "1",
   "metadata": {},
   "outputs": [],
   "source": [
    "import jax.numpy as jnp\n",
    "import jax.scipy as jsp\n",
    "from klujax import solve\n",
    "from tests import _get_rand_arrs_3d"
   ]
  },
  {
   "cell_type": "code",
   "execution_count": null,
   "id": "2",
   "metadata": {},
   "outputs": [],
   "source": [
    "dtype = jnp.complex128\n",
    "Ai, Aj, Ax, b = _get_rand_arrs_3d(\n",
    "    (n_lhs := 2),\n",
    "    (n_nz := 8),\n",
    "    (n_col := 3),\n",
    "    (n_rhs := 4),\n",
    "    dtype=dtype,\n",
    ")\n",
    "A = jnp.zeros((n_lhs, n_col, n_col), dtype=dtype).at[:, Ai, Aj].add(Ax)\n",
    "print(A)\n",
    "print(S := np.array(jsp.linalg.solve(A, b)))\n",
    "print(s := np.array(solve(Ai, Aj, Ax, b)))"
   ]
  },
  {
   "cell_type": "code",
   "execution_count": null,
   "id": "3",
   "metadata": {},
   "outputs": [],
   "source": [
    "S.shape"
   ]
  },
  {
   "cell_type": "code",
   "execution_count": null,
   "id": "4",
   "metadata": {},
   "outputs": [],
   "source": [
    "S"
   ]
  },
  {
   "cell_type": "markdown",
   "id": "5",
   "metadata": {},
   "source": [
    "is equal"
   ]
  },
  {
   "cell_type": "code",
   "execution_count": null,
   "id": "6",
   "metadata": {},
   "outputs": [],
   "source": [
    "(abs(S - s) < 1e-15).all()"
   ]
  }
 ],
 "metadata": {
  "kernelspec": {
   "display_name": "klujax",
   "language": "python",
   "name": "klujax"
  },
  "language_info": {
   "codemirror_mode": {
    "name": "ipython",
    "version": 3
   },
   "file_extension": ".py",
   "mimetype": "text/x-python",
   "name": "python",
   "nbconvert_exporter": "python",
   "pygments_lexer": "ipython3",
   "version": "3.13.0rc2"
  }
 },
 "nbformat": 4,
 "nbformat_minor": 5
}
