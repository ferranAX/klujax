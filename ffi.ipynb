{
 "cells": [
  {
   "cell_type": "markdown",
   "id": "27940cb0-e112-47dd-8e80-b373f800bb86",
   "metadata": {},
   "source": [
    "# FFI"
   ]
  },
  {
   "cell_type": "code",
   "execution_count": null,
   "id": "4ce308aa-3661-4a01-992b-726a351050c9",
   "metadata": {},
   "outputs": [],
   "source": [
    "%env JAX_ENABLE_X64=1"
   ]
  },
  {
   "cell_type": "markdown",
   "id": "535ffa10-9847-4d87-b67f-ed0c2d9d0f0b",
   "metadata": {},
   "source": [
    "## Imports"
   ]
  },
  {
   "cell_type": "code",
   "execution_count": null,
   "id": "ec759a97-5417-4277-81bb-3d884d4b457d",
   "metadata": {},
   "outputs": [],
   "source": [
    "from pathlib import Path\n",
    "\n",
    "import jax\n",
    "import jax.extend as jex\n",
    "import jax.numpy as jnp\n",
    "import jax.scipy as jsp\n",
    "import klujax_cpp\n",
    "import numpy as np"
   ]
  },
  {
   "cell_type": "markdown",
   "id": "947fd8f0-2e98-4996-8a99-127cf2dcd024",
   "metadata": {},
   "source": [
    "## Helpers"
   ]
  },
  {
   "cell_type": "code",
   "execution_count": null,
   "id": "9d9e147a-d059-4113-9309-b39f9660f80d",
   "metadata": {},
   "outputs": [],
   "source": [
    "def _prepare_arguments(Ai, Aj, Ax, x):\n",
    "    Ai = jnp.asarray(Ai)\n",
    "    Aj = jnp.asarray(Aj)\n",
    "    Ax = jnp.asarray(Ax)\n",
    "    x = jnp.asarray(x)\n",
    "    shape = x.shape\n",
    "\n",
    "    if x.ndim < 2:\n",
    "        x = jnp.atleast_2d(x).T\n",
    "\n",
    "    n_col, n_rhs, *_ = x.shape[Ax.ndim - 1 :] + (1,)\n",
    "\n",
    "    *_, n_nz = Ax.shape\n",
    "    Ax = Ax.reshape(-1, n_nz)\n",
    "    n_lhs, _ = Ax.shape\n",
    "\n",
    "    x = x.reshape(-1, n_col, n_rhs)\n",
    "    return Ai, Aj, Ax, x, shape, n_lhs, n_nz, n_col, n_rhs"
   ]
  },
  {
   "cell_type": "markdown",
   "id": "48774389-1d29-4f98-8ae4-fe0d26abdaea",
   "metadata": {},
   "source": [
    "## solve_f64"
   ]
  },
  {
   "cell_type": "code",
   "execution_count": null,
   "id": "41f6b4f8-1950-44d0-9675-26306c964a58",
   "metadata": {},
   "outputs": [],
   "source": [
    "jex.ffi.register_ffi_target(\n",
    "    \"_solve_f64\",\n",
    "    klujax_cpp.solve_f64(),\n",
    "    platform=\"cpu\",\n",
    ")"
   ]
  },
  {
   "cell_type": "code",
   "execution_count": null,
   "id": "d16b3c7b-a9e8-4a19-9465-d2b497416407",
   "metadata": {},
   "outputs": [],
   "source": [
    "def solve_f64_impl(Ai, Aj, Ax, b):\n",
    "    Ai, Aj, Ax, b, shape, n_lhs, n_nz, n_col, n_rhs = _prepare_arguments(Ai, Aj, Ax, b)\n",
    "    call = jax.extend.ffi.ffi_call(\n",
    "        \"_solve_f64\",\n",
    "        jax.ShapeDtypeStruct(b.shape, b.dtype),\n",
    "        vmap_method=\"broadcast_all\",\n",
    "    )\n",
    "    result = call(  # type: ignore\n",
    "        Ai,\n",
    "        Aj,\n",
    "        Ax,\n",
    "        b,\n",
    "    )\n",
    "    return result.reshape(*shape)  # type: ignore"
   ]
  },
  {
   "cell_type": "markdown",
   "id": "ad463c35-8221-4bd0-8900-aa7a36b4d81f",
   "metadata": {},
   "source": [
    "### single"
   ]
  },
  {
   "cell_type": "code",
   "execution_count": null,
   "id": "7e5d4702-c792-4b14-9bdd-7c4fcf00ce7c",
   "metadata": {},
   "outputs": [],
   "source": [
    "n_nz = 8\n",
    "n_col = 5\n",
    "n_rhs = 1\n",
    "Axkey, Aikey, Ajkey, bkey = jax.random.split(jax.random.PRNGKey(33), 4)\n",
    "Ax = jax.random.normal(Axkey, (n_nz,))\n",
    "Ai = jax.random.randint(Aikey, (n_nz,), 0, n_col, jnp.int32)\n",
    "Aj = jax.random.randint(Ajkey, (n_nz,), 0, n_col, jnp.int32)\n",
    "b = jax.random.normal(bkey, (n_col, n_rhs))\n",
    "x_sp = solve_f64_impl(Ai, Aj, Ax, b)\n",
    "\n",
    "A = jnp.zeros((n_col, n_col), dtype=jnp.float64).at[Ai, Aj].add(Ax)\n",
    "x = jsp.linalg.solve(A, b)\n",
    "\n",
    "x_sp - x"
   ]
  },
  {
   "cell_type": "markdown",
   "id": "f05aaa7a-8d62-4b74-a3de-879f203e4ba2",
   "metadata": {},
   "source": [
    "### batched"
   ]
  },
  {
   "cell_type": "code",
   "execution_count": null,
   "id": "3ee7337b-12a3-48a6-b284-27b2fbdc17e5",
   "metadata": {},
   "outputs": [],
   "source": [
    "n_nz = 8\n",
    "n_col = 5\n",
    "n_rhs = 1\n",
    "n_lhs = 3\n",
    "\n",
    "Axkey, Aikey, Ajkey, bkey = jax.random.split(jax.random.PRNGKey(33), 4)\n",
    "Ax = jax.random.normal(Axkey, (n_lhs, n_nz))\n",
    "Ai = jax.random.randint(Aikey, (n_nz,), 0, n_col, jnp.int32)\n",
    "Aj = jax.random.randint(Ajkey, (n_nz,), 0, n_col, jnp.int32)\n",
    "b = jax.random.normal(bkey, (n_lhs, n_col, n_rhs))\n",
    "x_sp = solve_f64_impl(Ai, Aj, Ax, b)\n",
    "\n",
    "A = jnp.zeros((n_lhs, n_col, n_col), dtype=jnp.complex128).at[:, Ai, Aj].add(Ax)\n",
    "x = jax.vmap(jsp.linalg.solve, (0, 0), 0)(A, b)\n",
    "\n",
    "x_sp - x"
   ]
  },
  {
   "cell_type": "markdown",
   "id": "6fd9ed23-198a-4cbe-bfdf-9b35b6ee7143",
   "metadata": {},
   "source": [
    "## solve_c128"
   ]
  },
  {
   "cell_type": "code",
   "execution_count": null,
   "id": "5fa7b54f-9860-42e3-8727-4ff609133b54",
   "metadata": {},
   "outputs": [],
   "source": [
    "jex.ffi.register_ffi_target(\n",
    "    \"_solve_c128\",\n",
    "    klujax_cpp.solve_c128(),\n",
    "    platform=\"cpu\",\n",
    ")"
   ]
  },
  {
   "cell_type": "code",
   "execution_count": null,
   "id": "ee9fa709-7d25-4b6b-b4ff-fdc4e4955904",
   "metadata": {},
   "outputs": [],
   "source": [
    "def solve_c128_impl(Ai, Aj, Ax, b):\n",
    "    Ai, Aj, Ax, b, shape, n_lhs, n_nz, n_col, n_rhs = _prepare_arguments(Ai, Aj, Ax, b)\n",
    "    print(b.shape)\n",
    "    call = jax.extend.ffi.ffi_call(\n",
    "        \"_solve_c128\",\n",
    "        jax.ShapeDtypeStruct(b.shape, b.dtype),\n",
    "        vmap_method=\"broadcast_all\",\n",
    "    )\n",
    "    result = call(  # type: ignore\n",
    "        Ai,\n",
    "        Aj,\n",
    "        Ax,\n",
    "        b,\n",
    "    )\n",
    "    return result.reshape(*shape)  # type: ignore"
   ]
  },
  {
   "cell_type": "markdown",
   "id": "1ce3dde1-e4a3-4387-8b81-cd431cecc380",
   "metadata": {},
   "source": [
    "### single"
   ]
  },
  {
   "cell_type": "code",
   "execution_count": null,
   "id": "188412de-f158-4b05-96dc-022512fb6ebb",
   "metadata": {},
   "outputs": [],
   "source": [
    "n_nz = 8\n",
    "n_col = 5\n",
    "n_rhs = 1\n",
    "Axkey, Aikey, Ajkey, bkey = jax.random.split(jax.random.PRNGKey(33), 4)\n",
    "Ax_r, Ax_i = jax.random.normal(Axkey, (2, n_nz))\n",
    "Ax = Ax_r + 1j * Ax_i\n",
    "Ai = jax.random.randint(Aikey, (n_nz,), 0, n_col, jnp.int32)\n",
    "Aj = jax.random.randint(Ajkey, (n_nz,), 0, n_col, jnp.int32)\n",
    "b_r, b_i = jax.random.normal(bkey, (2, n_col, n_rhs))\n",
    "b = b_r + 1j * b_i\n",
    "x_sp = solve_c128_impl(Ai, Aj, Ax, b)\n",
    "\n",
    "A = jnp.zeros((n_col, n_col), dtype=jnp.complex128).at[Ai, Aj].add(Ax)\n",
    "x = jsp.linalg.solve(A, b)\n",
    "\n",
    "x_sp - x"
   ]
  },
  {
   "cell_type": "markdown",
   "id": "e13c5f7e-d02f-4eb9-97f1-10532d6f1f74",
   "metadata": {},
   "source": [
    "### batched"
   ]
  },
  {
   "cell_type": "code",
   "execution_count": null,
   "id": "23803b5c-5ae6-438f-af5c-c79046605daa",
   "metadata": {},
   "outputs": [],
   "source": [
    "n_nz = 8\n",
    "n_col = 5\n",
    "n_rhs = 1\n",
    "n_lhs = 3\n",
    "\n",
    "Axkey, Aikey, Ajkey, bkey = jax.random.split(jax.random.PRNGKey(33), 4)\n",
    "Ax = jax.random.normal(Axkey, (n_lhs, n_nz), dtype=jnp.complex128)\n",
    "Ai = jax.random.randint(Aikey, (n_nz,), 0, n_col, jnp.int32)\n",
    "Aj = jax.random.randint(Ajkey, (n_nz,), 0, n_col, jnp.int32)\n",
    "b = jax.random.normal(bkey, (n_lhs, n_col, n_rhs), dtype=jnp.complex128)\n",
    "x_sp = solve_c128_impl(Ai, Aj, Ax, b)\n",
    "\n",
    "A = jnp.zeros((n_lhs, n_col, n_col), dtype=jnp.complex128).at[:, Ai, Aj].add(Ax)\n",
    "x = jax.vmap(jsp.linalg.solve, (0, 0), 0)(A, b)\n",
    "\n",
    "x_sp - x"
   ]
  },
  {
   "cell_type": "markdown",
   "id": "a5d0502c-08d3-467d-8a33-f7bd115f2812",
   "metadata": {},
   "source": [
    "## coo_mul_vec_f64"
   ]
  },
  {
   "cell_type": "code",
   "execution_count": null,
   "id": "bbade4be-758b-4434-a6e6-2706b2ab2e54",
   "metadata": {},
   "outputs": [],
   "source": [
    "jex.ffi.register_ffi_target(\n",
    "    \"_coo_mul_vec_f64\",\n",
    "    klujax_cpp.coo_mul_vec_f64(),\n",
    "    platform=\"cpu\",\n",
    ")"
   ]
  },
  {
   "cell_type": "code",
   "execution_count": null,
   "id": "d6a3970c-eaed-428e-81ea-388d3d220e4d",
   "metadata": {},
   "outputs": [],
   "source": [
    "def coo_mul_vec_f64_impl(Ai, Aj, Ax, x):\n",
    "    Ai, Aj, Ax, x, shape, n_lhs, n_nz, n_col, n_rhs = _prepare_arguments(Ai, Aj, Ax, x)\n",
    "    call = jax.extend.ffi.ffi_call(\n",
    "        \"_coo_mul_vec_f64\",\n",
    "        jax.ShapeDtypeStruct(x.shape, x.dtype),\n",
    "        vmap_method=\"broadcast_all\",\n",
    "    )\n",
    "    result = call(  # type: ignore\n",
    "        Ai,\n",
    "        Aj,\n",
    "        Ax,\n",
    "        x,\n",
    "    )\n",
    "    return result.reshape(*shape)  # type: ignore"
   ]
  },
  {
   "cell_type": "markdown",
   "id": "b50aca99-4e19-40bd-adc1-6a4a79c41c12",
   "metadata": {},
   "source": [
    "### single"
   ]
  },
  {
   "cell_type": "code",
   "execution_count": null,
   "id": "5ec367d4-ac57-49f0-9004-4e9cbff6b8de",
   "metadata": {},
   "outputs": [],
   "source": [
    "n_nz = 8\n",
    "n_col = 5\n",
    "n_rhs = 1\n",
    "Axkey, Aikey, Ajkey, bkey = jax.random.split(jax.random.PRNGKey(33), 4)\n",
    "Ax = jax.random.normal(Axkey, (n_nz,))\n",
    "Ai = jax.random.randint(Aikey, (n_nz,), 0, n_col, jnp.int32)\n",
    "Aj = jax.random.randint(Ajkey, (n_nz,), 0, n_col, jnp.int32)\n",
    "x = jax.random.normal(bkey, (n_col, n_rhs))\n",
    "b_sp = coo_mul_vec_f64_impl(Ai, Aj, Ax, x)\n",
    "\n",
    "A = jnp.zeros((n_col, n_col), dtype=jnp.float64).at[Ai, Aj].add(Ax)\n",
    "b = A @ x\n",
    "\n",
    "b_sp - b"
   ]
  },
  {
   "cell_type": "markdown",
   "id": "848ee580-5944-46f6-b6bb-ff77a25006cf",
   "metadata": {},
   "source": [
    "### batched"
   ]
  },
  {
   "cell_type": "code",
   "execution_count": null,
   "id": "409de3c2-70f8-46df-8353-6e0452421492",
   "metadata": {},
   "outputs": [],
   "source": [
    "n_nz = 8\n",
    "n_col = 5\n",
    "n_rhs = 1\n",
    "n_lhs = 3\n",
    "Axkey, Aikey, Ajkey, bkey = jax.random.split(jax.random.PRNGKey(33), 4)\n",
    "Ax = jax.random.normal(Axkey, (n_lhs, n_nz))\n",
    "Ai = jax.random.randint(Aikey, (n_nz,), 0, n_col, jnp.int32)\n",
    "Aj = jax.random.randint(Ajkey, (n_nz,), 0, n_col, jnp.int32)\n",
    "x = jax.random.normal(bkey, (n_lhs, n_col, n_rhs))\n",
    "\n",
    "b_sp = coo_mul_vec_f64_impl(Ai, Aj, Ax, x)\n",
    "\n",
    "A = jnp.zeros((n_lhs, n_col, n_col), dtype=jnp.complex128).at[:, Ai, Aj].add(Ax)\n",
    "b = jnp.einsum(\"bij,bjk->bik\", A, x)\n",
    "b_sp - b"
   ]
  },
  {
   "cell_type": "markdown",
   "id": "c949033e-461f-4f57-8100-3f407518ab07",
   "metadata": {},
   "source": [
    "## coo_mul_vec_c128"
   ]
  },
  {
   "cell_type": "code",
   "execution_count": null,
   "id": "f95fdcf1-9b3f-48ff-8c4d-a4f5c897878a",
   "metadata": {},
   "outputs": [],
   "source": [
    "jex.ffi.register_ffi_target(\n",
    "    \"_coo_mul_vec_c128\",\n",
    "    klujax_cpp.coo_mul_vec_c128(),\n",
    "    platform=\"cpu\",\n",
    ")"
   ]
  },
  {
   "cell_type": "code",
   "execution_count": null,
   "id": "f61cf070-12f2-425a-823c-d744824b7d3d",
   "metadata": {},
   "outputs": [],
   "source": [
    "def coo_mul_vec_c128_impl(Ai, Aj, Ax, x):\n",
    "    Ai, Aj, Ax, x, shape, n_lhs, n_nz, n_col, n_rhs = _prepare_arguments(Ai, Aj, Ax, x)\n",
    "    call = jax.extend.ffi.ffi_call(\n",
    "        \"_coo_mul_vec_c128\",\n",
    "        jax.ShapeDtypeStruct(x.shape, x.dtype),\n",
    "        vmap_method=\"broadcast_all\",\n",
    "    )\n",
    "    result = call(  # type: ignore\n",
    "        Ai,\n",
    "        Aj,\n",
    "        Ax,\n",
    "        x,\n",
    "    )\n",
    "    return result.reshape(*shape)  # type: ignore"
   ]
  },
  {
   "cell_type": "markdown",
   "id": "bda7def5-063b-4618-8451-3e003c147437",
   "metadata": {},
   "source": [
    "### single"
   ]
  },
  {
   "cell_type": "code",
   "execution_count": null,
   "id": "a5b4da5a-d77a-4569-a624-5a37783761cc",
   "metadata": {},
   "outputs": [],
   "source": [
    "n_nz = 8\n",
    "n_col = 5\n",
    "n_rhs = 1\n",
    "Axkey, Aikey, Ajkey, bkey = jax.random.split(jax.random.PRNGKey(33), 4)\n",
    "Ax = jax.random.normal(Axkey, (n_nz,), dtype=jnp.complex128)\n",
    "Ai = jax.random.randint(Aikey, (n_nz,), 0, n_col, jnp.int32)\n",
    "Aj = jax.random.randint(Ajkey, (n_nz,), 0, n_col, jnp.int32)\n",
    "x = jax.random.normal(bkey, (n_col, n_rhs), dtype=jnp.complex128)\n",
    "\n",
    "b_sp = coo_mul_vec_c128_impl(Ai, Aj, Ax, x)\n",
    "\n",
    "A = jnp.zeros((n_col, n_col), dtype=jnp.complex128).at[Ai, Aj].add(Ax)\n",
    "b = A @ x\n",
    "\n",
    "b_sp - b"
   ]
  },
  {
   "cell_type": "markdown",
   "id": "a54f382b-bd96-422b-b95c-7582df2ab72b",
   "metadata": {},
   "source": [
    "### batched"
   ]
  },
  {
   "cell_type": "code",
   "execution_count": null,
   "id": "768faa82-1c8e-4165-a24f-af1a5fd2f86c",
   "metadata": {},
   "outputs": [],
   "source": [
    "n_nz = 8\n",
    "n_col = 5\n",
    "n_rhs = 1\n",
    "n_lhs = 3\n",
    "Axkey, Aikey, Ajkey, bkey = jax.random.split(jax.random.PRNGKey(33), 4)\n",
    "Ax = jax.random.normal(Axkey, (n_lhs, n_nz), dtype=jnp.complex128)\n",
    "Ai = jax.random.randint(Aikey, (n_nz,), 0, n_col, jnp.int32)\n",
    "Aj = jax.random.randint(Ajkey, (n_nz,), 0, n_col, jnp.int32)\n",
    "x = jax.random.normal(bkey, (n_lhs, n_col, n_rhs), dtype=jnp.complex128)\n",
    "\n",
    "b_sp = coo_mul_vec_c128_impl(Ai, Aj, Ax, x)\n",
    "\n",
    "A = jnp.zeros((n_lhs, n_col, n_col), dtype=jnp.complex128).at[:, Ai, Aj].add(Ax)\n",
    "b = jnp.einsum(\"bij,bjk->bik\", A, x)\n",
    "b_sp - b"
   ]
  }
 ],
 "metadata": {
  "kernelspec": {
   "display_name": "Python 3 (ipykernel)",
   "language": "python",
   "name": "python3"
  },
  "language_info": {
   "codemirror_mode": {
    "name": "ipython",
    "version": 3
   },
   "file_extension": ".py",
   "mimetype": "text/x-python",
   "name": "python",
   "nbconvert_exporter": "python",
   "pygments_lexer": "ipython3",
   "version": "3.12.2"
  }
 },
 "nbformat": 4,
 "nbformat_minor": 5
}
