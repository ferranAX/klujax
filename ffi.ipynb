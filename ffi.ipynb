{
 "cells": [
  {
   "cell_type": "code",
   "execution_count": 1,
   "metadata": {},
   "outputs": [
    {
     "name": "stdout",
     "output_type": "stream",
     "text": [
      "env: JAX_ENABLE_X64=1\n"
     ]
    }
   ],
   "source": [
    "%env JAX_ENABLE_X64=1"
   ]
  },
  {
   "cell_type": "markdown",
   "metadata": {},
   "source": [
    "## Imports"
   ]
  },
  {
   "cell_type": "code",
   "execution_count": 2,
   "metadata": {},
   "outputs": [],
   "source": [
    "from pathlib import Path\n",
    "\n",
    "import jax\n",
    "import jax.extend as jex\n",
    "import jax.numpy as jnp\n",
    "import jax.scipy as jsp\n",
    "import klujax_cpp\n",
    "import numpy as np"
   ]
  },
  {
   "cell_type": "markdown",
   "metadata": {},
   "source": [
    "## solve_f64"
   ]
  },
  {
   "cell_type": "code",
   "execution_count": 3,
   "metadata": {},
   "outputs": [],
   "source": [
    "jex.ffi.register_ffi_target(\n",
    "    \"solve_f64\",\n",
    "    klujax_cpp.solve_f64(),\n",
    "    platform=\"cpu\",\n",
    ")"
   ]
  },
  {
   "cell_type": "code",
   "execution_count": 4,
   "metadata": {},
   "outputs": [],
   "source": [
    "def solve_f64(Ai, Aj, Ax, b):\n",
    "    *_, n_col, n_rhs = b.shape\n",
    "    _b = b.reshape(-1, n_col, n_rhs)\n",
    "    \n",
    "    *ns_lhs, n_nz = Ax.shape\n",
    "    _Ax = Ax.reshape(-1, n_nz)\n",
    "    n_lhs, _ = _Ax.shape\n",
    "    \n",
    "    call = jex.ffi.ffi_call(\n",
    "        \"solve_f64\",\n",
    "        jax.ShapeDtypeStruct(_b.shape, _b.dtype),\n",
    "        vmap_method=\"broadcast_all\",\n",
    "    )\n",
    "    b = call(\n",
    "        Ai,\n",
    "        Aj,\n",
    "        _Ax,\n",
    "        _b,\n",
    "        n_col=np.int32(n_col),\n",
    "        n_rhs=np.int32(n_rhs),\n",
    "        n_lhs=np.int32(n_lhs),\n",
    "        n_nz=np.int32(n_nz),\n",
    "    )\n",
    "    return b.reshape(*ns_lhs, n_col, n_rhs)"
   ]
  },
  {
   "cell_type": "markdown",
   "metadata": {},
   "source": [
    "### Test Single"
   ]
  },
  {
   "cell_type": "code",
   "execution_count": 5,
   "metadata": {},
   "outputs": [
    {
     "data": {
      "text/plain": [
       "Array([[-1.11022302e-16],\n",
       "       [ 0.00000000e+00],\n",
       "       [ 8.88178420e-16],\n",
       "       [-4.44089210e-16],\n",
       "       [ 1.77635684e-15]], dtype=float64)"
      ]
     },
     "execution_count": 5,
     "metadata": {},
     "output_type": "execute_result"
    }
   ],
   "source": [
    "n_nz = 8\n",
    "n_col = 5\n",
    "n_rhs = 1\n",
    "Axkey, Aikey, Ajkey, bkey = jax.random.split(jax.random.PRNGKey(33), 4)\n",
    "Ax = jax.random.normal(Axkey, (n_nz,))\n",
    "Ai = jax.random.randint(Aikey, (n_nz,), 0, n_col, jnp.int32)\n",
    "Aj = jax.random.randint(Ajkey, (n_nz,), 0, n_col, jnp.int32)\n",
    "b = jax.random.normal(bkey, (n_col, n_rhs))\n",
    "x_sp = solve_f64(Ai, Aj, Ax, b)\n",
    "\n",
    "A = jnp.zeros((n_col, n_col), dtype=jnp.float64).at[Ai, Aj].add(Ax)\n",
    "x = jsp.linalg.solve(A, b)\n",
    "\n",
    "x_sp - x"
   ]
  },
  {
   "cell_type": "markdown",
   "metadata": {},
   "source": [
    "### Test Batched"
   ]
  },
  {
   "cell_type": "code",
   "execution_count": 6,
   "metadata": {},
   "outputs": [
    {
     "data": {
      "text/plain": [
       "Array([[[ 0.00000000e+00+0.j],\n",
       "        [ 0.00000000e+00+0.j],\n",
       "        [ 0.00000000e+00+0.j],\n",
       "        [ 1.11022302e-16+0.j],\n",
       "        [ 8.88178420e-16+0.j]],\n",
       "\n",
       "       [[ 4.44089210e-16+0.j],\n",
       "        [ 0.00000000e+00+0.j],\n",
       "        [-2.22044605e-16+0.j],\n",
       "        [ 0.00000000e+00+0.j],\n",
       "        [ 4.44089210e-16+0.j]],\n",
       "\n",
       "       [[ 0.00000000e+00+0.j],\n",
       "        [ 0.00000000e+00+0.j],\n",
       "        [ 1.38777878e-17+0.j],\n",
       "        [ 0.00000000e+00+0.j],\n",
       "        [ 0.00000000e+00+0.j]]], dtype=complex128)"
      ]
     },
     "execution_count": 6,
     "metadata": {},
     "output_type": "execute_result"
    }
   ],
   "source": [
    "n_nz = 8\n",
    "n_col = 5\n",
    "n_rhs = 1\n",
    "n_lhs = 3\n",
    "\n",
    "Axkey, Aikey, Ajkey, bkey = jax.random.split(jax.random.PRNGKey(33), 4)\n",
    "Ax = jax.random.normal(Axkey, (n_lhs, n_nz))\n",
    "Ai = jax.random.randint(Aikey, (n_nz,), 0, n_col, jnp.int32)\n",
    "Aj = jax.random.randint(Ajkey, (n_nz,), 0, n_col, jnp.int32)\n",
    "b = jax.random.normal(bkey, (n_lhs, n_col, n_rhs))\n",
    "x_sp = solve_f64(Ai, Aj, Ax, b)\n",
    "\n",
    "A = jnp.zeros((n_lhs, n_col, n_col), dtype=jnp.complex128).at[:, Ai, Aj].add(Ax)\n",
    "x = jax.vmap(jsp.linalg.solve, (0, 0), 0)(A, b)\n",
    "\n",
    "x_sp - x"
   ]
  },
  {
   "cell_type": "markdown",
   "metadata": {},
   "source": [
    "## coo_mul_vec_f64"
   ]
  },
  {
   "cell_type": "code",
   "execution_count": 7,
   "metadata": {},
   "outputs": [],
   "source": [
    "jex.ffi.register_ffi_target(\n",
    "    \"coo_mul_vec_f64\",\n",
    "    klujax_cpp.coo_mul_vec_f64(),\n",
    "    platform=\"cpu\",\n",
    ")"
   ]
  },
  {
   "cell_type": "code",
   "execution_count": 8,
   "metadata": {},
   "outputs": [],
   "source": [
    "def coo_mul_vec_f64(Ai, Aj, Ax, x):\n",
    "    *_, n_col, n_rhs = x.shape\n",
    "    _x = x.reshape(-1, n_col, n_rhs)\n",
    "    \n",
    "    *ns_lhs, n_nz = Ax.shape\n",
    "    _Ax = Ax.reshape(-1, n_nz)\n",
    "    n_lhs, _ = _Ax.shape\n",
    "\n",
    "    call = jex.ffi.ffi_call(\n",
    "        \"coo_mul_vec_f64\",\n",
    "        jax.ShapeDtypeStruct(_x.shape, _x.dtype),\n",
    "        vmap_method=\"broadcast_all\",\n",
    "    )\n",
    "    b = call(\n",
    "        Ai,\n",
    "        Aj,\n",
    "        _Ax,\n",
    "        _x,\n",
    "        n_col=np.int32(n_col),\n",
    "        n_rhs=np.int32(n_rhs),\n",
    "        n_lhs=np.int32(n_lhs),\n",
    "        n_nz=np.int32(n_nz),\n",
    "    )\n",
    "    return b.reshape(*ns_lhs, n_col, n_rhs)"
   ]
  },
  {
   "cell_type": "markdown",
   "metadata": {},
   "source": [
    "### Test Single"
   ]
  },
  {
   "cell_type": "code",
   "execution_count": 9,
   "metadata": {},
   "outputs": [
    {
     "data": {
      "text/plain": [
       "Array([[0.],\n",
       "       [0.],\n",
       "       [0.],\n",
       "       [0.],\n",
       "       [0.]], dtype=float64)"
      ]
     },
     "execution_count": 9,
     "metadata": {},
     "output_type": "execute_result"
    }
   ],
   "source": [
    "n_nz = 8\n",
    "n_col = 5\n",
    "n_rhs = 1\n",
    "Axkey, Aikey, Ajkey, bkey = jax.random.split(jax.random.PRNGKey(33), 4)\n",
    "Ax = jax.random.normal(Axkey, (n_nz,))\n",
    "Ai = jax.random.randint(Aikey, (n_nz,), 0, n_col, jnp.int32)\n",
    "Aj = jax.random.randint(Ajkey, (n_nz,), 0, n_col, jnp.int32)\n",
    "x = jax.random.normal(bkey, (n_col, n_rhs))\n",
    "b_sp = coo_mul_vec_f64(Ai, Aj, Ax, x)\n",
    "\n",
    "A = jnp.zeros((n_col, n_col), dtype=jnp.float64).at[Ai, Aj].add(Ax)\n",
    "b = A @ x\n",
    "\n",
    "b_sp - b"
   ]
  },
  {
   "cell_type": "markdown",
   "metadata": {},
   "source": [
    "### Test Batched"
   ]
  },
  {
   "cell_type": "code",
   "execution_count": 10,
   "metadata": {},
   "outputs": [
    {
     "data": {
      "text/plain": [
       "Array([[[0.00000000e+00+0.j],\n",
       "        [0.00000000e+00+0.j],\n",
       "        [0.00000000e+00+0.j],\n",
       "        [0.00000000e+00+0.j],\n",
       "        [0.00000000e+00+0.j]],\n",
       "\n",
       "       [[0.00000000e+00+0.j],\n",
       "        [0.00000000e+00+0.j],\n",
       "        [2.22044605e-16+0.j],\n",
       "        [0.00000000e+00+0.j],\n",
       "        [0.00000000e+00+0.j]],\n",
       "\n",
       "       [[0.00000000e+00+0.j],\n",
       "        [0.00000000e+00+0.j],\n",
       "        [4.44089210e-16+0.j],\n",
       "        [0.00000000e+00+0.j],\n",
       "        [0.00000000e+00+0.j]]], dtype=complex128)"
      ]
     },
     "execution_count": 10,
     "metadata": {},
     "output_type": "execute_result"
    }
   ],
   "source": [
    "n_nz = 8\n",
    "n_col = 5\n",
    "n_rhs = 1\n",
    "n_lhs = 3\n",
    "Axkey, Aikey, Ajkey, bkey = jax.random.split(jax.random.PRNGKey(33), 4)\n",
    "Ax = jax.random.normal(Axkey, (n_lhs, n_nz))\n",
    "Ai = jax.random.randint(Aikey, (n_nz,), 0, n_col, jnp.int32)\n",
    "Aj = jax.random.randint(Ajkey, (n_nz,), 0, n_col, jnp.int32)\n",
    "x = jax.random.normal(bkey, (n_lhs, n_col, n_rhs))\n",
    "\n",
    "b_sp = coo_mul_vec_f64(Ai, Aj, Ax, x)\n",
    "\n",
    "A = jnp.zeros((n_lhs, n_col, n_col), dtype=jnp.complex128).at[:, Ai, Aj].add(Ax)\n",
    "b = jnp.einsum(\"bij,bjk->bik\", A, x)\n",
    "b_sp - b"
   ]
  },
  {
   "cell_type": "markdown",
   "metadata": {},
   "source": [
    "## solve_c128"
   ]
  },
  {
   "cell_type": "code",
   "execution_count": 11,
   "metadata": {},
   "outputs": [],
   "source": [
    "jex.ffi.register_ffi_target(\n",
    "    \"solve_c128\",\n",
    "    klujax_cpp.solve_c128(),\n",
    "    platform=\"cpu\",\n",
    ")"
   ]
  },
  {
   "cell_type": "code",
   "execution_count": 12,
   "metadata": {},
   "outputs": [],
   "source": [
    "def solve_c128(Ai, Aj, Ax, b):\n",
    "    *_, n_col, n_rhs = b.shape\n",
    "    _b = b.reshape(-1, n_col, n_rhs)\n",
    "    \n",
    "    *ns_lhs, n_nz = Ax.shape\n",
    "    _Ax = Ax.reshape(-1, n_nz)\n",
    "    n_lhs, _ = _Ax.shape\n",
    "\n",
    "    _Ax = _Ax.view(np.float64)\n",
    "    _b = _b.view(np.float64)\n",
    "    \n",
    "    call = jex.ffi.ffi_call(\n",
    "        \"solve_c128\",\n",
    "        jax.ShapeDtypeStruct(_b.shape, _b.dtype),\n",
    "        vmap_method=\"broadcast_all\",\n",
    "    )\n",
    "    x = call(\n",
    "        Ai,\n",
    "        Aj,\n",
    "        _Ax,\n",
    "        _b,\n",
    "        n_col=np.int32(n_col),\n",
    "        n_rhs=np.int32(n_rhs),\n",
    "        n_lhs=np.int32(n_lhs),\n",
    "        n_nz=np.int32(n_nz),\n",
    "    )\n",
    "    return x.view(b.dtype).reshape(*ns_lhs, n_col, n_rhs)"
   ]
  },
  {
   "cell_type": "markdown",
   "metadata": {},
   "source": [
    "### Test Single"
   ]
  },
  {
   "cell_type": "code",
   "execution_count": 13,
   "metadata": {},
   "outputs": [
    {
     "data": {
      "text/plain": [
       "Array([[ 0.00000000e+00+0.00000000e+00j],\n",
       "       [-4.16333634e-17-1.11022302e-16j],\n",
       "       [ 0.00000000e+00-5.55111512e-17j],\n",
       "       [-1.66533454e-16+4.44089210e-16j],\n",
       "       [ 3.33066907e-16-1.22124533e-15j]], dtype=complex128)"
      ]
     },
     "execution_count": 13,
     "metadata": {},
     "output_type": "execute_result"
    }
   ],
   "source": [
    "n_nz = 8\n",
    "n_col = 5\n",
    "n_rhs = 1\n",
    "Axkey, Aikey, Ajkey, bkey = jax.random.split(jax.random.PRNGKey(33), 4)\n",
    "Ax_r, Ax_i = jax.random.normal(Axkey, (2, n_nz))\n",
    "Ax = Ax_r + 1j * Ax_i\n",
    "Ai = jax.random.randint(Aikey, (n_nz,), 0, n_col, jnp.int32)\n",
    "Aj = jax.random.randint(Ajkey, (n_nz,), 0, n_col, jnp.int32)\n",
    "b_r, b_i = jax.random.normal(bkey, (2, n_col, n_rhs))\n",
    "b = b_r + 1j * b_i\n",
    "x_sp = solve_c128(Ai, Aj, Ax, b)\n",
    "\n",
    "A = jnp.zeros((n_col, n_col), dtype=jnp.complex128).at[Ai, Aj].add(Ax)\n",
    "x = jsp.linalg.solve(A, b)\n",
    "\n",
    "x_sp - x"
   ]
  },
  {
   "cell_type": "markdown",
   "metadata": {},
   "source": [
    "### Test Batched"
   ]
  },
  {
   "cell_type": "code",
   "execution_count": 14,
   "metadata": {},
   "outputs": [
    {
     "data": {
      "text/plain": [
       "Array([[[ 5.55111512e-17-5.55111512e-17j],\n",
       "        [-1.11022302e-16+0.00000000e+00j],\n",
       "        [ 0.00000000e+00+1.24900090e-16j],\n",
       "        [ 0.00000000e+00+2.77555756e-17j],\n",
       "        [-1.24900090e-16+4.44089210e-16j]],\n",
       "\n",
       "       [[-6.93889390e-18-5.55111512e-17j],\n",
       "        [-5.55111512e-17-1.11022302e-16j],\n",
       "        [ 4.85722573e-17+2.22044605e-16j],\n",
       "        [ 8.32667268e-17-2.22044605e-16j],\n",
       "        [ 2.22044605e-16-8.32667268e-17j]],\n",
       "\n",
       "       [[-2.77555756e-17-1.38777878e-17j],\n",
       "        [-4.44089210e-16+0.00000000e+00j],\n",
       "        [ 2.22044605e-16+3.33066907e-16j],\n",
       "        [ 3.46944695e-17+0.00000000e+00j],\n",
       "        [ 5.55111512e-17+0.00000000e+00j]]], dtype=complex128)"
      ]
     },
     "execution_count": 14,
     "metadata": {},
     "output_type": "execute_result"
    }
   ],
   "source": [
    "n_nz = 8\n",
    "n_col = 5\n",
    "n_rhs = 1\n",
    "n_lhs = 3\n",
    "\n",
    "Axkey, Aikey, Ajkey, bkey = jax.random.split(jax.random.PRNGKey(33), 4)\n",
    "Ax = jax.random.normal(Axkey, (n_lhs, n_nz), dtype=jnp.complex128)\n",
    "Ai = jax.random.randint(Aikey, (n_nz,), 0, n_col, jnp.int32)\n",
    "Aj = jax.random.randint(Ajkey, (n_nz,), 0, n_col, jnp.int32)\n",
    "b = jax.random.normal(bkey, (n_lhs, n_col, n_rhs), dtype=jnp.complex128)\n",
    "x_sp = solve_c128(Ai, Aj, Ax, b)\n",
    "\n",
    "A = jnp.zeros((n_lhs, n_col, n_col), dtype=jnp.complex128).at[:, Ai, Aj].add(Ax)\n",
    "x = jax.vmap(jsp.linalg.solve, (0, 0), 0)(A, b)\n",
    "\n",
    "x_sp - x"
   ]
  },
  {
   "cell_type": "markdown",
   "metadata": {},
   "source": [
    "## coo_mul_vec_c128"
   ]
  },
  {
   "cell_type": "code",
   "execution_count": 15,
   "metadata": {},
   "outputs": [],
   "source": [
    "jex.ffi.register_ffi_target(\n",
    "    \"coo_mul_vec_c128\",\n",
    "    klujax_cpp.coo_mul_vec_c128(),\n",
    "    platform=\"cpu\",\n",
    ")"
   ]
  },
  {
   "cell_type": "code",
   "execution_count": 16,
   "metadata": {},
   "outputs": [],
   "source": [
    "def coo_mul_vec_c128(Ai, Aj, Ax, x):\n",
    "    *_, n_col, n_rhs = x.shape\n",
    "    _x = x.reshape(-1, n_col, n_rhs)\n",
    "    \n",
    "    *ns_lhs, n_nz = Ax.shape\n",
    "    _Ax = Ax.reshape(-1, n_nz)\n",
    "    n_lhs, _ = _Ax.shape\n",
    "\n",
    "    _Ax = _Ax.view(np.float64)\n",
    "    _x = _x.view(np.float64)\n",
    "    call = jex.ffi.ffi_call(\n",
    "        \"coo_mul_vec_c128\",\n",
    "        jax.ShapeDtypeStruct(_x.shape, _x.dtype),\n",
    "        vmap_method=\"broadcast_all\",\n",
    "    )\n",
    "    y = call(\n",
    "        Ai,\n",
    "        Aj,\n",
    "        _Ax,\n",
    "        _x,\n",
    "        n_col=np.int32(n_col),\n",
    "        n_rhs=np.int32(n_rhs),\n",
    "        n_lhs=np.int32(n_lhs),\n",
    "        n_nz=np.int32(n_nz),\n",
    "    )\n",
    "    return y.view(x.dtype).reshape(*ns_lhs, n_col, n_rhs)"
   ]
  },
  {
   "cell_type": "markdown",
   "metadata": {},
   "source": [
    "### Test Single"
   ]
  },
  {
   "cell_type": "code",
   "execution_count": 17,
   "metadata": {},
   "outputs": [
    {
     "data": {
      "text/plain": [
       "Array([[ 0.00000000e+00+0.j],\n",
       "       [-2.77555756e-17+0.j],\n",
       "       [ 1.11022302e-16+0.j],\n",
       "       [ 0.00000000e+00+0.j],\n",
       "       [ 0.00000000e+00+0.j]], dtype=complex128)"
      ]
     },
     "execution_count": 17,
     "metadata": {},
     "output_type": "execute_result"
    }
   ],
   "source": [
    "n_nz = 8\n",
    "n_col = 5\n",
    "n_rhs = 1\n",
    "Axkey, Aikey, Ajkey, bkey = jax.random.split(jax.random.PRNGKey(33), 4)\n",
    "Ax = jax.random.normal(Axkey, (n_nz,), dtype=jnp.complex128)\n",
    "Ai = jax.random.randint(Aikey, (n_nz,), 0, n_col, jnp.int32)\n",
    "Aj = jax.random.randint(Ajkey, (n_nz,), 0, n_col, jnp.int32)\n",
    "x = jax.random.normal(bkey, (n_col, n_rhs), dtype=jnp.complex128)\n",
    "\n",
    "b_sp = coo_mul_vec_c128(Ai, Aj, Ax, x)\n",
    "\n",
    "A = jnp.zeros((n_col, n_col), dtype=jnp.complex128).at[Ai, Aj].add(Ax)\n",
    "b = A @ x\n",
    "\n",
    "b_sp - b"
   ]
  },
  {
   "cell_type": "markdown",
   "metadata": {},
   "source": [
    "### Test Batched"
   ]
  },
  {
   "cell_type": "code",
   "execution_count": 18,
   "metadata": {},
   "outputs": [
    {
     "data": {
      "text/plain": [
       "Array([[[ 0.00000000e+00+1.11022302e-16j],\n",
       "        [ 0.00000000e+00+0.00000000e+00j],\n",
       "        [ 0.00000000e+00+1.11022302e-16j],\n",
       "        [ 0.00000000e+00+0.00000000e+00j],\n",
       "        [ 0.00000000e+00+0.00000000e+00j]],\n",
       "\n",
       "       [[ 0.00000000e+00-6.93889390e-18j],\n",
       "        [ 0.00000000e+00+0.00000000e+00j],\n",
       "        [-5.55111512e-17+0.00000000e+00j],\n",
       "        [ 0.00000000e+00+0.00000000e+00j],\n",
       "        [ 2.77555756e-17+5.55111512e-17j]],\n",
       "\n",
       "       [[ 0.00000000e+00+0.00000000e+00j],\n",
       "        [ 3.46944695e-18+0.00000000e+00j],\n",
       "        [-1.11022302e-16+5.55111512e-17j],\n",
       "        [ 0.00000000e+00+0.00000000e+00j],\n",
       "        [-2.77555756e-17+0.00000000e+00j]]], dtype=complex128)"
      ]
     },
     "execution_count": 18,
     "metadata": {},
     "output_type": "execute_result"
    }
   ],
   "source": [
    "n_nz = 8\n",
    "n_col = 5\n",
    "n_rhs = 1\n",
    "n_lhs = 3\n",
    "Axkey, Aikey, Ajkey, bkey = jax.random.split(jax.random.PRNGKey(33), 4)\n",
    "Ax = jax.random.normal(Axkey, (n_lhs, n_nz), dtype=jnp.complex128)\n",
    "Ai = jax.random.randint(Aikey, (n_nz,), 0, n_col, jnp.int32)\n",
    "Aj = jax.random.randint(Ajkey, (n_nz,), 0, n_col, jnp.int32)\n",
    "x = jax.random.normal(bkey, (n_lhs, n_col, n_rhs), dtype=jnp.complex128)\n",
    "\n",
    "b_sp = coo_mul_vec_c128(Ai, Aj, Ax, x)\n",
    "\n",
    "A = jnp.zeros((n_lhs, n_col, n_col), dtype=jnp.complex128).at[:, Ai, Aj].add(Ax)\n",
    "b = jnp.einsum(\"bij,bjk->bik\", A, x)\n",
    "b_sp - b"
   ]
  },
  {
   "cell_type": "code",
   "execution_count": 22,
   "metadata": {},
   "outputs": [
    {
     "data": {
      "text/plain": [
       "(1, 2)"
      ]
     },
     "execution_count": 22,
     "metadata": {},
     "output_type": "execute_result"
    }
   ],
   "source": [
    "np.atleast_2d([0, 0], ).shape"
   ]
  }
 ],
 "metadata": {
  "jupytext": {
   "formats": "ipynb,md:myst"
  },
  "kernelspec": {
   "display_name": "Python 3 (ipykernel)",
   "language": "python",
   "name": "python3"
  },
  "language_info": {
   "codemirror_mode": {
    "name": "ipython",
    "version": 3
   },
   "file_extension": ".py",
   "mimetype": "text/x-python",
   "name": "python",
   "nbconvert_exporter": "python",
   "pygments_lexer": "ipython3",
   "version": "3.12.2"
  }
 },
 "nbformat": 4,
 "nbformat_minor": 4
}
